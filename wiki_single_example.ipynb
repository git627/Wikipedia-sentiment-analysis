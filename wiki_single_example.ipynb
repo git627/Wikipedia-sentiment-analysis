{
 "cells": [
  {
   "cell_type": "code",
   "execution_count": 1,
   "id": "bbfc8ecc-0154-4348-bfca-68c2ef60736c",
   "metadata": {},
   "outputs": [
    {
     "name": "stdout",
     "output_type": "stream",
     "text": [
      "WARNING:tensorflow:From C:\\Users\\marsh\\anaconda3\\Lib\\site-packages\\tf_keras\\src\\losses.py:2976: The name tf.losses.sparse_softmax_cross_entropy is deprecated. Please use tf.compat.v1.losses.sparse_softmax_cross_entropy instead.\n",
      "\n"
     ]
    }
   ],
   "source": [
    "from wiki_sentiment_single import analyze"
   ]
  },
  {
   "cell_type": "code",
   "execution_count": 2,
   "id": "7475339a-22a6-4698-8cd6-cc259ee405dd",
   "metadata": {},
   "outputs": [],
   "source": [
    "url='https://en.wikipedia.org/wiki/Taylor_Swift' #Should be in form of string\n",
    "models=['bert','roberta','robertuito'] #Should be a string or list of strings. Available choices are 'bert','roberta','robertuito', and 'distilbert'.\n",
    "filename='Taylor_Swift_analysis.csv' #Filename for output csv file\n",
    "output_path='path/to/my/file' #User may choose where to save the csv file\n",
    "show_progress='True' #Whether or not to display job progress. True by default"
   ]
  },
  {
   "cell_type": "code",
   "execution_count": 3,
   "id": "f767c631-78d2-4753-a0e0-ed9af6bd9387",
   "metadata": {},
   "outputs": [
    {
     "name": "stdout",
     "output_type": "stream",
     "text": [
      "1/83 paragraphs analyzed\n",
      "2/83 paragraphs analyzed\n",
      "3/83 paragraphs analyzed\n",
      "4/83 paragraphs analyzed\n",
      "5/83 paragraphs analyzed\n",
      "6/83 paragraphs analyzed\n",
      "7/83 paragraphs analyzed\n",
      "8/83 paragraphs analyzed\n",
      "9/83 paragraphs analyzed\n",
      "10/83 paragraphs analyzed\n",
      "11/83 paragraphs analyzed\n",
      "12/83 paragraphs analyzed\n",
      "13/83 paragraphs analyzed\n",
      "14/83 paragraphs analyzed\n",
      "15/83 paragraphs analyzed\n",
      "16/83 paragraphs analyzed\n",
      "17/83 paragraphs analyzed\n",
      "18/83 paragraphs analyzed\n",
      "19/83 paragraphs analyzed\n",
      "20/83 paragraphs analyzed\n",
      "21/83 paragraphs analyzed\n",
      "22/83 paragraphs analyzed\n",
      "23/83 paragraphs analyzed\n",
      "24/83 paragraphs analyzed\n",
      "25/83 paragraphs analyzed\n",
      "26/83 paragraphs analyzed\n",
      "27/83 paragraphs analyzed\n",
      "28/83 paragraphs analyzed\n",
      "29/83 paragraphs analyzed\n",
      "30/83 paragraphs analyzed\n",
      "31/83 paragraphs analyzed\n",
      "32/83 paragraphs analyzed\n",
      "33/83 paragraphs analyzed\n",
      "34/83 paragraphs analyzed\n",
      "35/83 paragraphs analyzed\n",
      "36/83 paragraphs analyzed\n",
      "37/83 paragraphs analyzed\n",
      "38/83 paragraphs analyzed\n",
      "39/83 paragraphs analyzed\n",
      "40/83 paragraphs analyzed\n",
      "41/83 paragraphs analyzed\n",
      "42/83 paragraphs analyzed\n",
      "43/83 paragraphs analyzed\n",
      "44/83 paragraphs analyzed\n",
      "45/83 paragraphs analyzed\n",
      "46/83 paragraphs analyzed\n",
      "47/83 paragraphs analyzed\n",
      "48/83 paragraphs analyzed\n",
      "49/83 paragraphs analyzed\n",
      "50/83 paragraphs analyzed\n",
      "51/83 paragraphs analyzed\n",
      "52/83 paragraphs analyzed\n",
      "53/83 paragraphs analyzed\n",
      "54/83 paragraphs analyzed\n",
      "55/83 paragraphs analyzed\n",
      "56/83 paragraphs analyzed\n",
      "57/83 paragraphs analyzed\n",
      "58/83 paragraphs analyzed\n",
      "59/83 paragraphs analyzed\n",
      "60/83 paragraphs analyzed\n",
      "61/83 paragraphs analyzed\n",
      "62/83 paragraphs analyzed\n",
      "63/83 paragraphs analyzed\n",
      "64/83 paragraphs analyzed\n",
      "65/83 paragraphs analyzed\n",
      "66/83 paragraphs analyzed\n",
      "67/83 paragraphs analyzed\n",
      "68/83 paragraphs analyzed\n",
      "69/83 paragraphs analyzed\n",
      "70/83 paragraphs analyzed\n",
      "71/83 paragraphs analyzed\n",
      "72/83 paragraphs analyzed\n",
      "73/83 paragraphs analyzed\n",
      "74/83 paragraphs analyzed\n",
      "75/83 paragraphs analyzed\n",
      "76/83 paragraphs analyzed\n",
      "77/83 paragraphs analyzed\n",
      "78/83 paragraphs analyzed\n",
      "79/83 paragraphs analyzed\n",
      "80/83 paragraphs analyzed\n",
      "81/83 paragraphs analyzed\n",
      "82/83 paragraphs analyzed\n",
      "83/83 paragraphs analyzed\n"
     ]
    }
   ],
   "source": [
    "analyze(url,models,filename)"
   ]
  },
  {
   "cell_type": "code",
   "execution_count": null,
   "id": "5fc793ad-1bd4-4cd4-a052-acd1cd588a91",
   "metadata": {},
   "outputs": [],
   "source": []
  }
 ],
 "metadata": {
  "kernelspec": {
   "display_name": "Python [conda env:base] *",
   "language": "python",
   "name": "conda-base-py"
  },
  "language_info": {
   "codemirror_mode": {
    "name": "ipython",
    "version": 3
   },
   "file_extension": ".py",
   "mimetype": "text/x-python",
   "name": "python",
   "nbconvert_exporter": "python",
   "pygments_lexer": "ipython3",
   "version": "3.13.5"
  }
 },
 "nbformat": 4,
 "nbformat_minor": 5
}
