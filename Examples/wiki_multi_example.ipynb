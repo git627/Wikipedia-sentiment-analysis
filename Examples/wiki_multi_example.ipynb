{
 "cells": [
  {
   "cell_type": "code",
   "execution_count": 1,
   "id": "1dc601e3-e461-4091-a7c0-db17caa7a897",
   "metadata": {},
   "outputs": [
    {
     "name": "stdout",
     "output_type": "stream",
     "text": [
      "WARNING:tensorflow:From C:\\Users\\marsh\\anaconda3\\Lib\\site-packages\\tf_keras\\src\\losses.py:2976: The name tf.losses.sparse_softmax_cross_entropy is deprecated. Please use tf.compat.v1.losses.sparse_softmax_cross_entropy instead.\n",
      "\n"
     ]
    }
   ],
   "source": [
    "from wiki_sentiment_multi import analyze_list, analyze_csv"
   ]
  },
  {
   "cell_type": "code",
   "execution_count": 2,
   "id": "bbe41080-ec40-4175-87f6-250e783aac20",
   "metadata": {},
   "outputs": [],
   "source": [
    "urls=['https://en.wikipedia.org/wiki/Taylor_Swift',\n",
    "'https://en.wikipedia.org/wiki/Justin_Bieber',\n",
    "'https://en.wikipedia.org/wiki/Rihanna'] #list of URLs formatted as strings\n",
    "models=['bert','roberta','robertuito'] #Should be a string or list of strings. Available choices are 'bert','roberta','robertuito', and 'distilbert'.\n",
    "output_filename='singers_analysis.csv' #Filename for output csv file\n",
    "output_path='path/to/my/file' #Filepath at which csv file is saved. If left unspecified, file will be saved in working location\n",
    "show_progress=True #Whether or not to display job progress. True by default"
   ]
  },
  {
   "cell_type": "code",
   "execution_count": 3,
   "id": "d4a8d80f-ad33-44ae-952c-c764317ba200",
   "metadata": {},
   "outputs": [
    {
     "name": "stdout",
     "output_type": "stream",
     "text": [
      "1/3 articles analyzed\n",
      "2/3 articles analyzed\n",
      "3/3 articles analyzed\n"
     ]
    }
   ],
   "source": [
    "analyze_list(urls,models,output_filename)"
   ]
  },
  {
   "cell_type": "code",
   "execution_count": 4,
   "id": "1efcf1c5-7bc0-40b4-80c6-7624061f75d2",
   "metadata": {},
   "outputs": [],
   "source": [
    "input_filename='beatles.csv' #filename of a UTF-8 encoded csv file that contains a column of URLs\n",
    "models=['bert','roberta','robertuito'] #Should be a string or list of strings. Available choices are 'bert','roberta','robertuito', and 'distilbert'.\n",
    "output_filename='beatles_analysis.csv' #Filename for output csv file\n",
    "input_path='path/to/my/file' #Input filepath if input_data is a csv file. If left unspecified, it is the current working directory\n",
    "output_path='path/to/my/file' #Filepath at which csv file is saved. If left unspecified, file will be saved in working location\n",
    "show_progress=True #Whether or not to display job progress. True by default\n",
    "url_column='URL' #if input_data is a csv file, the name of the column containing the URLs. 'URL' by default"
   ]
  },
  {
   "cell_type": "code",
   "execution_count": 5,
   "id": "e6e17769-3cf2-45aa-878b-2c937444c4aa",
   "metadata": {},
   "outputs": [
    {
     "name": "stdout",
     "output_type": "stream",
     "text": [
      "1/4 articles analyzed\n",
      "2/4 articles analyzed\n",
      "3/4 articles analyzed\n",
      "4/4 articles analyzed\n"
     ]
    }
   ],
   "source": [
    "analyze_csv(input_filename,models,output_filename)"
   ]
  }
 ],
 "metadata": {
  "kernelspec": {
   "display_name": "Python [conda env:base] *",
   "language": "python",
   "name": "conda-base-py"
  },
  "language_info": {
   "codemirror_mode": {
    "name": "ipython",
    "version": 3
   },
   "file_extension": ".py",
   "mimetype": "text/x-python",
   "name": "python",
   "nbconvert_exporter": "python",
   "pygments_lexer": "ipython3",
   "version": "3.13.5"
  }
 },
 "nbformat": 4,
 "nbformat_minor": 5
}
